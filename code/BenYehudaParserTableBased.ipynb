{
 "cells": [
  {
   "cell_type": "markdown",
   "id": "924145de",
   "metadata": {},
   "source": [
    "## Imports"
   ]
  },
  {
   "cell_type": "code",
   "execution_count": null,
   "id": "c9f6993b",
   "metadata": {},
   "outputs": [],
   "source": [
    "import os"
   ]
  },
  {
   "cell_type": "code",
   "execution_count": null,
   "id": "9d162a51",
   "metadata": {},
   "outputs": [],
   "source": [
    "import re"
   ]
  },
  {
   "cell_type": "code",
   "execution_count": null,
   "id": "b8145a6f",
   "metadata": {},
   "outputs": [],
   "source": [
    "from bs4 import BeautifulSoup"
   ]
  },
  {
   "cell_type": "code",
   "execution_count": null,
   "id": "1ed1c124",
   "metadata": {},
   "outputs": [],
   "source": [
    "import pandas as pd"
   ]
  },
  {
   "cell_type": "markdown",
   "id": "426dd96d",
   "metadata": {},
   "source": [
    "## Data import and initial exploration of metadata"
   ]
  },
  {
   "cell_type": "code",
   "execution_count": null,
   "id": "e5ce342c",
   "metadata": {},
   "outputs": [],
   "source": [
    "table = pd.read_csv('../preparatory_data/benyehuda.drama.29112022.tsv', sep='\\t')"
   ]
  },
  {
   "cell_type": "code",
   "execution_count": null,
   "id": "2c7f1f31",
   "metadata": {},
   "outputs": [],
   "source": [
    "table"
   ]
  },
  {
   "cell_type": "code",
   "execution_count": null,
   "id": "a911b040",
   "metadata": {},
   "outputs": [],
   "source": [
    "table['html']"
   ]
  },
  {
   "cell_type": "code",
   "execution_count": null,
   "id": "4da3c917",
   "metadata": {},
   "outputs": [],
   "source": [
    "table.columns"
   ]
  },
  {
   "cell_type": "code",
   "execution_count": null,
   "id": "217a5847",
   "metadata": {},
   "outputs": [],
   "source": [
    "table.info()"
   ]
  },
  {
   "cell_type": "code",
   "execution_count": null,
   "id": "26fecc4d",
   "metadata": {},
   "outputs": [],
   "source": [
    "table['AuthorWikidata'].value_counts().plot.bar(figsize=(15,8));"
   ]
  },
  {
   "cell_type": "code",
   "execution_count": null,
   "id": "fe5c6d41",
   "metadata": {},
   "outputs": [],
   "source": [
    "table['AuthorWikidata'].value_counts().plot.pie(figsize=(10,10));"
   ]
  },
  {
   "cell_type": "code",
   "execution_count": null,
   "id": "e1293476",
   "metadata": {},
   "outputs": [],
   "source": [
    "table = table.astype({'orig_publication_date': 'datetime64[ns]'})"
   ]
  },
  {
   "cell_type": "code",
   "execution_count": null,
   "id": "476c05b2",
   "metadata": {},
   "outputs": [],
   "source": [
    "table['orig_publication_date'].dt.year"
   ]
  },
  {
   "cell_type": "code",
   "execution_count": null,
   "id": "e3f0d658",
   "metadata": {},
   "outputs": [],
   "source": [
    "table['orig_publication_date'].dt.year.plot.hist(figsize=(15,8), bins=20);"
   ]
  },
  {
   "cell_type": "markdown",
   "id": "47967c3a",
   "metadata": {},
   "source": [
    "## TEI creation functions"
   ]
  },
  {
   "cell_type": "code",
   "execution_count": null,
   "id": "b661be27",
   "metadata": {},
   "outputs": [],
   "source": [
    "def parse_table(table):\n",
    "    table.apply(parse_play,\n",
    "                axis=1)"
   ]
  },
  {
   "cell_type": "code",
   "execution_count": null,
   "id": "1b40a00e",
   "metadata": {},
   "outputs": [],
   "source": [
    "def parse_play(row):\n",
    "    html = row['html']\n",
    "    soup = BeautifulSoup(html)\n",
    "    html_body = soup.find('body')\n",
    "    tei_tree, tei_text, tei_body = generate_tei_stub(soup)\n",
    "    populate_the_tei_body(tei_body, html_body, soup)\n",
    "    new_file_path = f'../tei/{row[\"TextID\"]}.xml'\n",
    "    with open(new_file_path, 'w') as output:\n",
    "        output.write(tei_tree.prettify())"
   ]
  },
  {
   "cell_type": "code",
   "execution_count": null,
   "id": "5bf808a7",
   "metadata": {},
   "outputs": [],
   "source": [
    "def generate_tei_stub(soup):\n",
    "    new_tree = soup.new_tag(\"TEI\")\n",
    "    new_text = soup.new_tag(\"text\")\n",
    "    new_tree.append(new_text)\n",
    "    new_body = soup.new_tag(\"body\")\n",
    "    new_text.append(new_body)\n",
    "    return new_tree, new_text, new_body"
   ]
  },
  {
   "cell_type": "code",
   "execution_count": null,
   "id": "d00be52b",
   "metadata": {},
   "outputs": [],
   "source": [
    "def populate_the_tei_body(tei_body, html_body, soup):\n",
    "    all_p = html_body.find_all('p')\n",
    "    for item in all_p:\n",
    "        speech = parse_p(item, soup)\n",
    "        #print(speech)\n",
    "        tei_body.append(speech)"
   ]
  },
  {
   "cell_type": "code",
   "execution_count": null,
   "id": "2bc4527f",
   "metadata": {},
   "outputs": [],
   "source": [
    "def populate_the_tei_header(tei_header, metadata):\n",
    "    '''this function should take metadata from the CSV and enrich the teiHeader'''\n",
    "    #row = metadata.loc[]\n",
    "    pass\n",
    "    "
   ]
  },
  {
   "cell_type": "code",
   "execution_count": null,
   "id": "8e0c4f9f",
   "metadata": {},
   "outputs": [],
   "source": [
    "def salvage_speaker_regex(newsp, soup):\n",
    "    text = newsp.text\n",
    "    newsp.clear()\n",
    "    lookup = re.search(r\"(.+):(.+)\", text)\n",
    "    if lookup is not None:\n",
    "        spekaername = lookup.group(1)\n",
    "        newspeaker = soup.new_tag(\"speaker\", id=spekaername)\n",
    "        newspeaker.append(spekaername)\n",
    "        newsp.append(newspeaker)\n",
    "        newsp.append(lookup.group(2))\n",
    "    else:\n",
    "        newsp.append(text)"
   ]
  },
  {
   "cell_type": "code",
   "execution_count": null,
   "id": "1ebfe433",
   "metadata": {},
   "outputs": [],
   "source": [
    "def parse_p(item, soup):\n",
    "    newsp = soup.new_tag(\"sp\")\n",
    "    found_bold = False\n",
    "    for child in item:\n",
    "        if child.name == 'strong':\n",
    "            found_bold = True\n",
    "            spekaername = child.text\n",
    "            #print(spekaername)\n",
    "            newspeaker = soup.new_tag(\"speaker\", id=spekaername)\n",
    "            newspeaker.append(spekaername)\n",
    "            newsp.append(newspeaker)\n",
    "            #print('SUCCESS')\n",
    "        else:\n",
    "            newsp.append(child)\n",
    "    if not found_bold:\n",
    "        salvage_speaker_regex(newsp, soup)\n",
    "    return newsp"
   ]
  },
  {
   "cell_type": "markdown",
   "id": "d9ab3efb",
   "metadata": {},
   "source": [
    "## Use"
   ]
  },
  {
   "cell_type": "code",
   "execution_count": null,
   "id": "8fe6eab4",
   "metadata": {},
   "outputs": [],
   "source": [
    "parse_table(table)"
   ]
  }
 ],
 "metadata": {
  "kernelspec": {
   "display_name": "Python 3 (ipykernel)",
   "language": "python",
   "name": "python3"
  },
  "language_info": {
   "codemirror_mode": {
    "name": "ipython",
    "version": 3
   },
   "file_extension": ".py",
   "mimetype": "text/x-python",
   "name": "python",
   "nbconvert_exporter": "python",
   "pygments_lexer": "ipython3",
   "version": "3.9.13"
  }
 },
 "nbformat": 4,
 "nbformat_minor": 5
}
