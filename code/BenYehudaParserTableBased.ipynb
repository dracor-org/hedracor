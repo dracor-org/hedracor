{
 "cells": [
  {
   "cell_type": "markdown",
   "id": "924145de",
   "metadata": {},
   "source": [
    "## Imports"
   ]
  },
  {
   "cell_type": "code",
   "execution_count": null,
   "id": "c9f6993b",
   "metadata": {},
   "outputs": [],
   "source": [
    "import os"
   ]
  },
  {
   "cell_type": "code",
   "execution_count": null,
   "id": "9d162a51",
   "metadata": {},
   "outputs": [],
   "source": [
    "import re"
   ]
  },
  {
   "cell_type": "code",
   "execution_count": null,
   "id": "b8145a6f",
   "metadata": {},
   "outputs": [],
   "source": [
    "from bs4 import BeautifulSoup"
   ]
  },
  {
   "cell_type": "code",
   "execution_count": null,
   "id": "1ed1c124",
   "metadata": {},
   "outputs": [],
   "source": [
    "import pandas as pd"
   ]
  },
  {
   "cell_type": "code",
   "execution_count": null,
   "id": "f43fd5bc",
   "metadata": {},
   "outputs": [],
   "source": [
    "#!pip3 install yiddish"
   ]
  },
  {
   "cell_type": "code",
   "execution_count": null,
   "id": "e75b3252",
   "metadata": {},
   "outputs": [],
   "source": [
    "import yiddish"
   ]
  },
  {
   "cell_type": "markdown",
   "id": "426dd96d",
   "metadata": {},
   "source": [
    "## Data import and initial exploration of metadata"
   ]
  },
  {
   "cell_type": "code",
   "execution_count": null,
   "id": "e5ce342c",
   "metadata": {},
   "outputs": [],
   "source": [
    "table = pd.read_csv('../preparatory_data/benyehuda_drama.12092023.tsv', sep='\\t')"
   ]
  },
  {
   "cell_type": "code",
   "execution_count": null,
   "id": "2c7f1f31",
   "metadata": {},
   "outputs": [],
   "source": [
    "table"
   ]
  },
  {
   "cell_type": "code",
   "execution_count": null,
   "id": "a911b040",
   "metadata": {},
   "outputs": [],
   "source": [
    "table['html']"
   ]
  },
  {
   "cell_type": "code",
   "execution_count": null,
   "id": "4da3c917",
   "metadata": {},
   "outputs": [],
   "source": [
    "table.columns"
   ]
  },
  {
   "cell_type": "code",
   "execution_count": null,
   "id": "217a5847",
   "metadata": {},
   "outputs": [],
   "source": [
    "table.info()"
   ]
  },
  {
   "cell_type": "code",
   "execution_count": null,
   "id": "e2ba1ecc",
   "metadata": {},
   "outputs": [],
   "source": [
    "table['Author_EN'] = table['Author_EN'].fillna('NoAuthor')"
   ]
  },
  {
   "cell_type": "code",
   "execution_count": null,
   "id": "26fecc4d",
   "metadata": {},
   "outputs": [],
   "source": [
    "table['Author_EN'].value_counts().plot.bar(figsize=(15,8));"
   ]
  },
  {
   "cell_type": "code",
   "execution_count": null,
   "id": "fe5c6d41",
   "metadata": {},
   "outputs": [],
   "source": [
    "table['Author_EN'].value_counts().plot.pie(figsize=(10,10));"
   ]
  },
  {
   "cell_type": "code",
   "execution_count": null,
   "id": "e1293476",
   "metadata": {},
   "outputs": [],
   "source": [
    "table = table.astype({'orig_publication_date': 'datetime64[ns]'})"
   ]
  },
  {
   "cell_type": "code",
   "execution_count": null,
   "id": "476c05b2",
   "metadata": {},
   "outputs": [],
   "source": [
    "table['orig_publication_date'].dt.year"
   ]
  },
  {
   "cell_type": "code",
   "execution_count": null,
   "id": "e3f0d658",
   "metadata": {},
   "outputs": [],
   "source": [
    "table['orig_publication_date'].dt.year.plot.hist(figsize=(15,8), bins=20);"
   ]
  },
  {
   "cell_type": "markdown",
   "id": "47967c3a",
   "metadata": {},
   "source": [
    "## TEI creation functions"
   ]
  },
  {
   "cell_type": "code",
   "execution_count": null,
   "id": "b661be27",
   "metadata": {},
   "outputs": [],
   "source": [
    "def parse_table(table):\n",
    "    table.apply(parse_play,\n",
    "                axis=1)"
   ]
  },
  {
   "cell_type": "code",
   "execution_count": null,
   "id": "1b40a00e",
   "metadata": {},
   "outputs": [],
   "source": [
    "def parse_play(row):\n",
    "    html = row['html']\n",
    "    soup = BeautifulSoup(html)\n",
    "    html_body = soup.find('body')\n",
    "    tei_tree, tei_header, standoff, tei_text, tei_body = generate_tei_stub(soup)\n",
    "    populate_the_tei_body(tei_body, html_body, soup)\n",
    "    populate_the_tei_header(row, tei_header, soup)\n",
    "    creation_date = row['Creation_Date']\n",
    "    print_date = row['raw_publication_date']\n",
    "    fill_standoff_with_dates(standoff, written=creation_date, print_date=print_date)\n",
    "    new_file_path = f'../tei/{row[\"Author_EN\"].lower().replace(\" \", \"_\")}_{row[\"TextID\"]}.xml'\n",
    "    with open(new_file_path, 'w') as output:\n",
    "        output.write(tei_tree.prettify())"
   ]
  },
  {
   "cell_type": "code",
   "execution_count": null,
   "id": "d00be52b",
   "metadata": {},
   "outputs": [],
   "source": [
    "def populate_the_tei_body(tei_body, html_body, soup):\n",
    "    all_p = html_body.find_all('p')\n",
    "    for item in all_p:\n",
    "        speech = parse_p(item, soup)\n",
    "        #print(speech)\n",
    "        tei_body.append(speech)"
   ]
  },
  {
   "cell_type": "code",
   "execution_count": null,
   "id": "8e0c4f9f",
   "metadata": {},
   "outputs": [],
   "source": [
    "def salvage_speaker_regex(newsp, soup):\n",
    "    text = newsp.text\n",
    "    newsp.clear()\n",
    "    lookup = re.search(r\"(^[^\\s]+):(.+)\", text)\n",
    "    if lookup is not None:\n",
    "        speakername = lookup.group(1)\n",
    "        speaker_id = create_id(speakername)\n",
    "        newspeaker = soup.new_tag(\"speaker\", id=speaker_id)\n",
    "        newspeaker.append(speakername)\n",
    "        newsp.append(newspeaker)\n",
    "        newsp.append(lookup.group(2))\n",
    "    else:\n",
    "        speechtext = soup.new_tag(\"p\")\n",
    "        speechtext.append(text)\n",
    "        newsp.append(speechtext)"
   ]
  },
  {
   "cell_type": "code",
   "execution_count": null,
   "id": "1ebfe433",
   "metadata": {},
   "outputs": [],
   "source": [
    "def parse_p(item, soup):\n",
    "    newsp = soup.new_tag(\"sp\")\n",
    "    found_bold = False\n",
    "    for child in item:\n",
    "        if child.name == 'strong':\n",
    "            found_bold = True\n",
    "            speakername = child.text\n",
    "            #print(spekaername)\n",
    "            speaker_id = create_id(speakername)\n",
    "            newspeaker = soup.new_tag(\"speaker\", id=speaker_id)\n",
    "            newspeaker.append(speakername)\n",
    "            newsp.append(newspeaker)\n",
    "            #print('SUCCESS')\n",
    "        else:\n",
    "            speechtext = soup.new_tag(\"p\")\n",
    "            speechtext.append(child)\n",
    "            newsp.append(speechtext)\n",
    "    if not found_bold:\n",
    "        salvage_speaker_regex(newsp, soup)\n",
    "    return newsp"
   ]
  },
  {
   "cell_type": "code",
   "execution_count": null,
   "id": "f4aa065d",
   "metadata": {},
   "outputs": [],
   "source": [
    "def create_id(speakername):\n",
    "    speakername = speakername.lower().strip('.,:!; ')\n",
    "    if re.search('[אאַאָבבֿגדהוװוּױזחטייִײײַככּךלמםנןסעפּפֿףצץקרששׂתּת]', speakername):\n",
    "        return (yiddish.transliterate(speakername))\n",
    "    \n",
    "    return (speakername)\n",
    "    "
   ]
  },
  {
   "cell_type": "code",
   "execution_count": null,
   "id": "2bdd9971",
   "metadata": {},
   "outputs": [],
   "source": [
    "create_id('פלָוִיוס')"
   ]
  },
  {
   "cell_type": "code",
   "execution_count": null,
   "id": "6182d94e",
   "metadata": {},
   "outputs": [],
   "source": [
    "create_id('Daniel')"
   ]
  },
  {
   "cell_type": "markdown",
   "id": "a0152a07",
   "metadata": {},
   "source": [
    "### TEI generation functions"
   ]
  },
  {
   "cell_type": "code",
   "execution_count": null,
   "id": "5bf808a7",
   "metadata": {},
   "outputs": [],
   "source": [
    "def generate_tei_stub(soup):\n",
    "    new_tree = soup.new_tag(\"TEI\")\n",
    "    new_tree['xmlns'] = \"http://www.tei-c.org/ns/1.0\"\n",
    "    new_header = soup.new_tag(\"teiHeader\")\n",
    "    new_tree.append(new_header)\n",
    "    standoff = soup.new_tag(\"standOff\") \n",
    "    new_tree.append(standoff)\n",
    "    new_text = soup.new_tag(\"text\") \n",
    "    new_tree.append(new_text)\n",
    "    new_body = soup.new_tag(\"body\")\n",
    "    new_text.append(new_body)\n",
    "    return new_tree, new_header, standoff, new_text, new_body"
   ]
  },
  {
   "cell_type": "code",
   "execution_count": null,
   "id": "2bc4527f",
   "metadata": {},
   "outputs": [],
   "source": [
    "def populate_the_tei_header(row, tei_header, soup):\n",
    "    '''this function should take metadata from the CSV and enrich the teiHeader'''\n",
    "    fdesc = soup.new_tag('fileDesc')\n",
    "    titlestmt = soup.new_tag('titleStmt')\n",
    "    fdesc.append(titlestmt)\n",
    "    add_pbstmt(fdesc)\n",
    "    add_sourcedesc(fdesc)\n",
    "    tei_header.append(fdesc)\n",
    "    populate_header_from_metadata(row, tei_header, soup)\n",
    "    "
   ]
  },
  {
   "cell_type": "code",
   "execution_count": null,
   "id": "64da082d",
   "metadata": {},
   "outputs": [],
   "source": [
    "def populate_header_from_metadata(row, tei_header, soup):\n",
    "    play_title = row['Title']\n",
    "    add_title_to_header(tei_header, play_title, soup)\n",
    "    author = row['Author']\n",
    "    author_eng = row['Author_EN']\n",
    "    add_author_to_header(tei_header, author, author_eng, soup)"
   ]
  },
  {
   "cell_type": "code",
   "execution_count": null,
   "id": "e3e3ff72",
   "metadata": {},
   "outputs": [],
   "source": [
    "def add_author_to_header(header, author_name, soup):\n",
    "    fdesc = header.find('titleStmt')\n",
    "    author = soup.new_tag('author')\n",
    "    author.append(author_name)\n",
    "    fdesc.append(author)"
   ]
  },
  {
   "cell_type": "code",
   "execution_count": null,
   "id": "55afdc00",
   "metadata": {},
   "outputs": [],
   "source": [
    "def add_title_to_header(header, play_title, soup):\n",
    "    titlest = header.find('titleStmt')\n",
    "    title = soup.new_tag('title')\n",
    "    title['type'] = 'main'\n",
    "    title.append(play_title)\n",
    "    titlest.append(title)"
   ]
  },
  {
   "cell_type": "code",
   "execution_count": null,
   "id": "2d0d66b7",
   "metadata": {},
   "outputs": [],
   "source": [
    "def add_author_to_header(header, author_name, author_name_eng, soup):\n",
    "    fdesc = header.find('titleStmt')\n",
    "    author = soup.new_tag('author')\n",
    "    author.append(author_name)\n",
    "    fdesc.append(author)    \n",
    "    author_eng = soup.new_tag('author')\n",
    "    author_eng['lang'] = 'eng'\n",
    "    author_eng.append(author_name_eng)\n",
    "    fdesc.append(author_eng)"
   ]
  },
  {
   "cell_type": "code",
   "execution_count": null,
   "id": "bddfab53",
   "metadata": {},
   "outputs": [],
   "source": [
    "def add_pbstmt(filedesc):\n",
    "    pubstmt_as_string = \"\"\"\n",
    "      <publicationStmt>\n",
    "        <publisher xml:id=\"dracor\">DraCor</publisher>\n",
    "        <idno type=\"URL\">https://dracor.org</idno>\n",
    "        <availability>\n",
    "          <licence>\n",
    "            <ab>CC0 1.0</ab>\n",
    "            <ref target=\"https://creativecommons.org/publicdomain/zero/1.0/\">Licence</ref>\n",
    "          </licence>\n",
    "        </availability>\n",
    "      </publicationStmt>\n",
    "    \"\"\"\n",
    "    pbsoup = BeautifulSoup(pubstmt_as_string, 'xml')\n",
    "    pbstmt = pbsoup.publicationStmt\n",
    "    filedesc.append(pbstmt)"
   ]
  },
  {
   "cell_type": "code",
   "execution_count": null,
   "id": "583bf33e",
   "metadata": {},
   "outputs": [],
   "source": [
    "def add_sourcedesc(filedesc):\n",
    "    sourcedesc_as_string = \"\"\"\n",
    "      <sourceDesc>\n",
    "        <bibl type=\"digitalSource\">\n",
    "          <name>ENTER SOURCE NAME HERE</name>\n",
    "          <idno type=\"URL\">ENTER SOURCE URL HERE</idno>\n",
    "          <availability status=\"free\">\n",
    "            <p>In the public domain.</p>\n",
    "          </availability>\n",
    "        </bibl>\n",
    "      </sourceDesc>\n",
    "    \"\"\"\n",
    "    sdsoup = BeautifulSoup(sourcedesc_as_string, 'xml')\n",
    "    sd = sdsoup.sourceDesc\n",
    "    filedesc.append(sd)"
   ]
  },
  {
   "cell_type": "code",
   "execution_count": null,
   "id": "87f30103",
   "metadata": {},
   "outputs": [],
   "source": [
    "def fill_standoff_with_dates(standoff, \n",
    "                 print_date=None,\n",
    "                 written=None,\n",
    "                 premiere=None):\n",
    "    \n",
    "    listevent_as_string = f'''\n",
    "        <listEvent>\n",
    "        <event type=\"print\" when=\"{print_date}\">\n",
    "        <desc/>\n",
    "        </event>\n",
    "        <event type=\"premiere\" when=\"{premiere}\">\n",
    "        <desc/>\n",
    "        </event>\n",
    "        <event type=\"written\" when=\"{written}\">\n",
    "        <desc/>\n",
    "        </event>\n",
    "        </listEvent>\n",
    "    '''\n",
    "    listevent = BeautifulSoup(listevent_as_string, 'xml')\n",
    "    standoff.append(listevent)"
   ]
  },
  {
   "cell_type": "markdown",
   "id": "d9ab3efb",
   "metadata": {},
   "source": [
    "## Use"
   ]
  },
  {
   "cell_type": "code",
   "execution_count": null,
   "id": "8fe6eab4",
   "metadata": {},
   "outputs": [],
   "source": [
    "parse_table(table)"
   ]
  }
 ],
 "metadata": {
  "kernelspec": {
   "display_name": "Python 3 (ipykernel)",
   "language": "python",
   "name": "python3"
  },
  "language_info": {
   "codemirror_mode": {
    "name": "ipython",
    "version": 3
   },
   "file_extension": ".py",
   "mimetype": "text/x-python",
   "name": "python",
   "nbconvert_exporter": "python",
   "pygments_lexer": "ipython3",
   "version": "3.9.13"
  }
 },
 "nbformat": 4,
 "nbformat_minor": 5
}
